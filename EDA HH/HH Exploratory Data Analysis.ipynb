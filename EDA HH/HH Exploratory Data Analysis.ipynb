{
 "cells": [
  {
   "cell_type": "markdown",
   "id": "b30cdb7d",
   "metadata": {},
   "source": [
    "# HH Exploratory Data Analysis"
   ]
  },
  {
   "cell_type": "markdown",
   "id": "f49435da",
   "metadata": {},
   "source": [
    "## Objective"
   ]
  },
  {
   "cell_type": "markdown",
   "id": "ecc970de",
   "metadata": {},
   "source": [
    "- What are the overall sales trend?\n",
    "- Revenue generated from each course\n",
    "- What are top 3 courses by sales?\n",
    "- What are the number of course orders handled by each counsellor?\n",
    "- How does the mean revenue collected per month vary with time?"
   ]
  },
  {
   "cell_type": "markdown",
   "id": "1a59c569",
   "metadata": {},
   "source": [
    "#### IMPORTING REQUIRED LIBRARIES "
   ]
  },
  {
   "cell_type": "code",
   "execution_count": 1,
   "id": "76d6687b",
   "metadata": {},
   "outputs": [],
   "source": [
    "import random\n",
    "import pandas as pd\n",
    "import matplotlib.pyplot as plt\n",
    "import datetime as dt\n",
    "import numpy as np\n",
    "%matplotlib inline\n",
    "\n",
    "import seaborn as sns\n",
    "from sklearn.linear_model import LinearRegression"
   ]
  },
  {
   "cell_type": "markdown",
   "id": "234cefb6",
   "metadata": {},
   "source": [
    "#### IMPORTING THE DATASET"
   ]
  },
  {
   "cell_type": "code",
   "execution_count": 2,
   "id": "96e830c3",
   "metadata": {},
   "outputs": [],
   "source": [
    "ds = pd.read_excel('cleaned_data.xlsx')\n",
    "df = ds.sample(frac=1)\n",
    "pd.options.display.float_format = '{:.2f}'.format"
   ]
  },
  {
   "cell_type": "markdown",
   "id": "94fdc26d",
   "metadata": {},
   "source": [
    "#### DATA AUDIT"
   ]
  },
  {
   "cell_type": "code",
   "execution_count": 3,
   "id": "559f783c",
   "metadata": {},
   "outputs": [
    {
     "data": {
      "text/html": [
       "<div>\n",
       "<style scoped>\n",
       "    .dataframe tbody tr th:only-of-type {\n",
       "        vertical-align: middle;\n",
       "    }\n",
       "\n",
       "    .dataframe tbody tr th {\n",
       "        vertical-align: top;\n",
       "    }\n",
       "\n",
       "    .dataframe thead th {\n",
       "        text-align: right;\n",
       "    }\n",
       "</style>\n",
       "<table border=\"1\" class=\"dataframe\">\n",
       "  <thead>\n",
       "    <tr style=\"text-align: right;\">\n",
       "      <th></th>\n",
       "      <th>Unnamed: 0</th>\n",
       "      <th>Month</th>\n",
       "      <th>Counsellor Name</th>\n",
       "      <th>Course Name</th>\n",
       "      <th>Fees Total</th>\n",
       "      <th>Fees Received</th>\n",
       "      <th>Fees Pending</th>\n",
       "      <th>Unnamed: 7</th>\n",
       "      <th>Unnamed: 8</th>\n",
       "      <th>Unnamed: 9</th>\n",
       "    </tr>\n",
       "  </thead>\n",
       "  <tbody>\n",
       "    <tr>\n",
       "      <th>5763</th>\n",
       "      <td>6216</td>\n",
       "      <td>2021-05-01</td>\n",
       "      <td>Ankit</td>\n",
       "      <td>SSGB</td>\n",
       "      <td>17500.00</td>\n",
       "      <td>17500.00</td>\n",
       "      <td>0</td>\n",
       "      <td>NaN</td>\n",
       "      <td>NaN</td>\n",
       "      <td>NaN</td>\n",
       "    </tr>\n",
       "    <tr>\n",
       "      <th>5553</th>\n",
       "      <td>6004</td>\n",
       "      <td>2021-04-01</td>\n",
       "      <td>Vineeta</td>\n",
       "      <td>SSGB</td>\n",
       "      <td>13175.00</td>\n",
       "      <td>13175.00</td>\n",
       "      <td>0</td>\n",
       "      <td>NaN</td>\n",
       "      <td>NaN</td>\n",
       "      <td>NaN</td>\n",
       "    </tr>\n",
       "    <tr>\n",
       "      <th>3018</th>\n",
       "      <td>3045</td>\n",
       "      <td>2020-07-01</td>\n",
       "      <td>Pooja</td>\n",
       "      <td>GST</td>\n",
       "      <td>4590.19</td>\n",
       "      <td>4590.19</td>\n",
       "      <td>0</td>\n",
       "      <td>NaN</td>\n",
       "      <td>NaN</td>\n",
       "      <td>NaN</td>\n",
       "    </tr>\n",
       "    <tr>\n",
       "      <th>263</th>\n",
       "      <td>267</td>\n",
       "      <td>2020-07-01</td>\n",
       "      <td>MM</td>\n",
       "      <td>CDCW</td>\n",
       "      <td>17000.00</td>\n",
       "      <td>17000.00</td>\n",
       "      <td>0</td>\n",
       "      <td>NaN</td>\n",
       "      <td>NaN</td>\n",
       "      <td>NaN</td>\n",
       "    </tr>\n",
       "    <tr>\n",
       "      <th>1265</th>\n",
       "      <td>1286</td>\n",
       "      <td>2021-01-01</td>\n",
       "      <td>SS</td>\n",
       "      <td>CDCW</td>\n",
       "      <td>12000.00</td>\n",
       "      <td>12000.00</td>\n",
       "      <td>0</td>\n",
       "      <td>NaN</td>\n",
       "      <td>NaN</td>\n",
       "      <td>NaN</td>\n",
       "    </tr>\n",
       "  </tbody>\n",
       "</table>\n",
       "</div>"
      ],
      "text/plain": [
       "      Unnamed: 0      Month Counsellor Name Course Name  Fees Total  \\\n",
       "5763        6216 2021-05-01           Ankit        SSGB    17500.00   \n",
       "5553        6004 2021-04-01         Vineeta        SSGB    13175.00   \n",
       "3018        3045 2020-07-01           Pooja         GST     4590.19   \n",
       "263          267 2020-07-01              MM        CDCW    17000.00   \n",
       "1265        1286 2021-01-01              SS        CDCW    12000.00   \n",
       "\n",
       "      Fees Received Fees Pending  Unnamed: 7  Unnamed: 8  Unnamed: 9  \n",
       "5763       17500.00            0         NaN         NaN         NaN  \n",
       "5553       13175.00            0         NaN         NaN         NaN  \n",
       "3018        4590.19            0         NaN         NaN         NaN  \n",
       "263        17000.00            0         NaN         NaN         NaN  \n",
       "1265       12000.00            0         NaN         NaN         NaN  "
      ]
     },
     "execution_count": 3,
     "metadata": {},
     "output_type": "execute_result"
    }
   ],
   "source": [
    "df.head()"
   ]
  },
  {
   "cell_type": "code",
   "execution_count": 4,
   "id": "cd68807f",
   "metadata": {},
   "outputs": [
    {
     "data": {
      "text/html": [
       "<div>\n",
       "<style scoped>\n",
       "    .dataframe tbody tr th:only-of-type {\n",
       "        vertical-align: middle;\n",
       "    }\n",
       "\n",
       "    .dataframe tbody tr th {\n",
       "        vertical-align: top;\n",
       "    }\n",
       "\n",
       "    .dataframe thead th {\n",
       "        text-align: right;\n",
       "    }\n",
       "</style>\n",
       "<table border=\"1\" class=\"dataframe\">\n",
       "  <thead>\n",
       "    <tr style=\"text-align: right;\">\n",
       "      <th></th>\n",
       "      <th>Unnamed: 0</th>\n",
       "      <th>Month</th>\n",
       "      <th>Counsellor Name</th>\n",
       "      <th>Course Name</th>\n",
       "      <th>Fees Total</th>\n",
       "      <th>Fees Received</th>\n",
       "      <th>Fees Pending</th>\n",
       "      <th>Unnamed: 7</th>\n",
       "      <th>Unnamed: 8</th>\n",
       "      <th>Unnamed: 9</th>\n",
       "    </tr>\n",
       "  </thead>\n",
       "  <tbody>\n",
       "    <tr>\n",
       "      <th>3465</th>\n",
       "      <td>3875</td>\n",
       "      <td>2020-06-01</td>\n",
       "      <td>Ruby</td>\n",
       "      <td>SSBB</td>\n",
       "      <td>22000.00</td>\n",
       "      <td>22000.00</td>\n",
       "      <td>0</td>\n",
       "      <td>NaN</td>\n",
       "      <td>NaN</td>\n",
       "      <td>NaN</td>\n",
       "    </tr>\n",
       "    <tr>\n",
       "      <th>3388</th>\n",
       "      <td>3798</td>\n",
       "      <td>2020-04-01</td>\n",
       "      <td>Ruby</td>\n",
       "      <td>GST</td>\n",
       "      <td>15000.00</td>\n",
       "      <td>15000.00</td>\n",
       "      <td>0</td>\n",
       "      <td>NaN</td>\n",
       "      <td>NaN</td>\n",
       "      <td>NaN</td>\n",
       "    </tr>\n",
       "    <tr>\n",
       "      <th>1235</th>\n",
       "      <td>1256</td>\n",
       "      <td>2021-01-01</td>\n",
       "      <td>CD</td>\n",
       "      <td>CDCW</td>\n",
       "      <td>2000.00</td>\n",
       "      <td>2000.00</td>\n",
       "      <td>0</td>\n",
       "      <td>NaN</td>\n",
       "      <td>NaN</td>\n",
       "      <td>NaN</td>\n",
       "    </tr>\n",
       "    <tr>\n",
       "      <th>6171</th>\n",
       "      <td>6642</td>\n",
       "      <td>2021-02-01</td>\n",
       "      <td>Vineeta</td>\n",
       "      <td>PMP</td>\n",
       "      <td>11825.00</td>\n",
       "      <td>11825.00</td>\n",
       "      <td>0</td>\n",
       "      <td>NaN</td>\n",
       "      <td>NaN</td>\n",
       "      <td>NaN</td>\n",
       "    </tr>\n",
       "    <tr>\n",
       "      <th>4311</th>\n",
       "      <td>4741</td>\n",
       "      <td>2021-06-01</td>\n",
       "      <td>Sonam</td>\n",
       "      <td>SSBB</td>\n",
       "      <td>23600.00</td>\n",
       "      <td>23600.00</td>\n",
       "      <td>0</td>\n",
       "      <td>NaN</td>\n",
       "      <td>NaN</td>\n",
       "      <td>NaN</td>\n",
       "    </tr>\n",
       "  </tbody>\n",
       "</table>\n",
       "</div>"
      ],
      "text/plain": [
       "      Unnamed: 0      Month Counsellor Name Course Name  Fees Total  \\\n",
       "3465        3875 2020-06-01            Ruby        SSBB    22000.00   \n",
       "3388        3798 2020-04-01            Ruby         GST    15000.00   \n",
       "1235        1256 2021-01-01              CD        CDCW     2000.00   \n",
       "6171        6642 2021-02-01         Vineeta         PMP    11825.00   \n",
       "4311        4741 2021-06-01           Sonam        SSBB    23600.00   \n",
       "\n",
       "      Fees Received Fees Pending  Unnamed: 7  Unnamed: 8  Unnamed: 9  \n",
       "3465       22000.00            0         NaN         NaN         NaN  \n",
       "3388       15000.00            0         NaN         NaN         NaN  \n",
       "1235        2000.00            0         NaN         NaN         NaN  \n",
       "6171       11825.00            0         NaN         NaN         NaN  \n",
       "4311       23600.00            0         NaN         NaN         NaN  "
      ]
     },
     "execution_count": 4,
     "metadata": {},
     "output_type": "execute_result"
    }
   ],
   "source": [
    "df.tail()"
   ]
  },
  {
   "cell_type": "code",
   "execution_count": 5,
   "id": "be87d088",
   "metadata": {},
   "outputs": [
    {
     "data": {
      "text/plain": [
       "(6360, 10)"
      ]
     },
     "execution_count": 5,
     "metadata": {},
     "output_type": "execute_result"
    }
   ],
   "source": [
    "df.shape"
   ]
  },
  {
   "cell_type": "code",
   "execution_count": 6,
   "id": "3bb9e46b",
   "metadata": {},
   "outputs": [
    {
     "data": {
      "text/plain": [
       "Index(['Unnamed: 0', 'Month', 'Counsellor Name', 'Course Name', 'Fees Total',\n",
       "       'Fees Received', 'Fees Pending', 'Unnamed: 7', 'Unnamed: 8',\n",
       "       'Unnamed: 9'],\n",
       "      dtype='object')"
      ]
     },
     "execution_count": 6,
     "metadata": {},
     "output_type": "execute_result"
    }
   ],
   "source": [
    "df.columns"
   ]
  },
  {
   "cell_type": "code",
   "execution_count": 7,
   "id": "d0d6f5fa",
   "metadata": {},
   "outputs": [
    {
     "name": "stdout",
     "output_type": "stream",
     "text": [
      "<class 'pandas.core.frame.DataFrame'>\n",
      "Int64Index: 6360 entries, 5763 to 4311\n",
      "Data columns (total 10 columns):\n",
      " #   Column           Non-Null Count  Dtype         \n",
      "---  ------           --------------  -----         \n",
      " 0   Unnamed: 0       6360 non-null   int64         \n",
      " 1   Month            6360 non-null   datetime64[ns]\n",
      " 2   Counsellor Name  6360 non-null   object        \n",
      " 3   Course Name      6360 non-null   object        \n",
      " 4   Fees Total       6360 non-null   float64       \n",
      " 5   Fees Received    6360 non-null   float64       \n",
      " 6   Fees Pending     6360 non-null   object        \n",
      " 7   Unnamed: 7       0 non-null      float64       \n",
      " 8   Unnamed: 8       0 non-null      float64       \n",
      " 9   Unnamed: 9       0 non-null      float64       \n",
      "dtypes: datetime64[ns](1), float64(5), int64(1), object(3)\n",
      "memory usage: 546.6+ KB\n"
     ]
    }
   ],
   "source": [
    "df.info()"
   ]
  },
  {
   "cell_type": "code",
   "execution_count": 8,
   "id": "6e65373b",
   "metadata": {},
   "outputs": [
    {
     "name": "stdout",
     "output_type": "stream",
     "text": [
      "<class 'pandas.core.frame.DataFrame'>\n",
      "Int64Index: 6360 entries, 5763 to 4311\n",
      "Data columns (total 9 columns):\n",
      " #   Column           Non-Null Count  Dtype         \n",
      "---  ------           --------------  -----         \n",
      " 0   Unnamed: 0       6360 non-null   int64         \n",
      " 1   Month            6360 non-null   datetime64[ns]\n",
      " 2   Counsellor Name  6360 non-null   object        \n",
      " 3   Course Name      6360 non-null   object        \n",
      " 4   Fees Total       6360 non-null   float64       \n",
      " 5   Fees Received    6360 non-null   float64       \n",
      " 6   Fees Pending     6360 non-null   object        \n",
      " 7   Unnamed: 8       0 non-null      float64       \n",
      " 8   Unnamed: 9       0 non-null      float64       \n",
      "dtypes: datetime64[ns](1), float64(4), int64(1), object(3)\n",
      "memory usage: 496.9+ KB\n"
     ]
    }
   ],
   "source": [
    "df.drop('Unnamed: 7', axis=1,inplace=True)\n",
    "df.info()"
   ]
  },
  {
   "cell_type": "code",
   "execution_count": 9,
   "id": "e4a93e3d",
   "metadata": {},
   "outputs": [
    {
     "name": "stdout",
     "output_type": "stream",
     "text": [
      "<class 'pandas.core.frame.DataFrame'>\n",
      "Int64Index: 6360 entries, 5763 to 4311\n",
      "Data columns (total 7 columns):\n",
      " #   Column           Non-Null Count  Dtype         \n",
      "---  ------           --------------  -----         \n",
      " 0   Unnamed: 0       6360 non-null   int64         \n",
      " 1   Month            6360 non-null   datetime64[ns]\n",
      " 2   Counsellor Name  6360 non-null   object        \n",
      " 3   Course Name      6360 non-null   object        \n",
      " 4   Fees Total       6360 non-null   float64       \n",
      " 5   Fees Received    6360 non-null   float64       \n",
      " 6   Fees Pending     6360 non-null   object        \n",
      "dtypes: datetime64[ns](1), float64(2), int64(1), object(3)\n",
      "memory usage: 397.5+ KB\n"
     ]
    }
   ],
   "source": [
    "df.drop(['Unnamed: 8','Unnamed: 9'], axis=1,inplace=True)\n",
    "df.info()"
   ]
  },
  {
   "cell_type": "code",
   "execution_count": 10,
   "id": "53aab855",
   "metadata": {},
   "outputs": [
    {
     "data": {
      "text/plain": [
       "Unnamed: 0         0\n",
       "Month              0\n",
       "Counsellor Name    0\n",
       "Course Name        0\n",
       "Fees Total         0\n",
       "Fees Received      0\n",
       "Fees Pending       0\n",
       "dtype: int64"
      ]
     },
     "execution_count": 10,
     "metadata": {},
     "output_type": "execute_result"
    }
   ],
   "source": [
    "# Checking missing values\n",
    "df.isnull().sum()"
   ]
  },
  {
   "cell_type": "code",
   "execution_count": 11,
   "id": "8681762f",
   "metadata": {},
   "outputs": [
    {
     "data": {
      "text/html": [
       "<div>\n",
       "<style scoped>\n",
       "    .dataframe tbody tr th:only-of-type {\n",
       "        vertical-align: middle;\n",
       "    }\n",
       "\n",
       "    .dataframe tbody tr th {\n",
       "        vertical-align: top;\n",
       "    }\n",
       "\n",
       "    .dataframe thead th {\n",
       "        text-align: right;\n",
       "    }\n",
       "</style>\n",
       "<table border=\"1\" class=\"dataframe\">\n",
       "  <thead>\n",
       "    <tr style=\"text-align: right;\">\n",
       "      <th></th>\n",
       "      <th>Unnamed: 0</th>\n",
       "      <th>Fees Total</th>\n",
       "      <th>Fees Received</th>\n",
       "    </tr>\n",
       "  </thead>\n",
       "  <tbody>\n",
       "    <tr>\n",
       "      <th>count</th>\n",
       "      <td>6360.00</td>\n",
       "      <td>6360.00</td>\n",
       "      <td>6360.00</td>\n",
       "    </tr>\n",
       "    <tr>\n",
       "      <th>mean</th>\n",
       "      <td>3395.56</td>\n",
       "      <td>12746.30</td>\n",
       "      <td>1559008.97</td>\n",
       "    </tr>\n",
       "    <tr>\n",
       "      <th>std</th>\n",
       "      <td>2025.87</td>\n",
       "      <td>8296.17</td>\n",
       "      <td>123308464.27</td>\n",
       "    </tr>\n",
       "    <tr>\n",
       "      <th>min</th>\n",
       "      <td>1.00</td>\n",
       "      <td>0.00</td>\n",
       "      <td>0.00</td>\n",
       "    </tr>\n",
       "    <tr>\n",
       "      <th>25%</th>\n",
       "      <td>1612.75</td>\n",
       "      <td>7700.04</td>\n",
       "      <td>7600.00</td>\n",
       "    </tr>\n",
       "    <tr>\n",
       "      <th>50%</th>\n",
       "      <td>3206.50</td>\n",
       "      <td>11750.00</td>\n",
       "      <td>11875.00</td>\n",
       "    </tr>\n",
       "    <tr>\n",
       "      <th>75%</th>\n",
       "      <td>5203.25</td>\n",
       "      <td>15000.00</td>\n",
       "      <td>15000.00</td>\n",
       "    </tr>\n",
       "    <tr>\n",
       "      <th>max</th>\n",
       "      <td>6839.00</td>\n",
       "      <td>89000.00</td>\n",
       "      <td>9833814498.00</td>\n",
       "    </tr>\n",
       "  </tbody>\n",
       "</table>\n",
       "</div>"
      ],
      "text/plain": [
       "       Unnamed: 0  Fees Total  Fees Received\n",
       "count     6360.00     6360.00        6360.00\n",
       "mean      3395.56    12746.30     1559008.97\n",
       "std       2025.87     8296.17   123308464.27\n",
       "min          1.00        0.00           0.00\n",
       "25%       1612.75     7700.04        7600.00\n",
       "50%       3206.50    11750.00       11875.00\n",
       "75%       5203.25    15000.00       15000.00\n",
       "max       6839.00    89000.00  9833814498.00"
      ]
     },
     "execution_count": 11,
     "metadata": {},
     "output_type": "execute_result"
    }
   ],
   "source": [
    "# Getting descriptive statistics summary\n",
    "df.describe()"
   ]
  },
  {
   "cell_type": "markdown",
   "id": "c451da0a",
   "metadata": {},
   "source": [
    "### EXPLORATORY DATA ANALYSIS"
   ]
  },
  {
   "cell_type": "markdown",
   "id": "42bf3883",
   "metadata": {},
   "source": [
    "- <H4> WHAT IS THE OVERALL SALES TREND?"
   ]
  },
  {
   "cell_type": "code",
   "execution_count": 12,
   "id": "66963635",
   "metadata": {},
   "outputs": [
    {
     "data": {
      "text/plain": [
       "Timestamp('2020-04-01 00:00:00')"
      ]
     },
     "execution_count": 12,
     "metadata": {},
     "output_type": "execute_result"
    }
   ],
   "source": [
    "df['Month'].min()"
   ]
  },
  {
   "cell_type": "code",
   "execution_count": 13,
   "id": "1f080987",
   "metadata": {},
   "outputs": [
    {
     "data": {
      "text/plain": [
       "Timestamp('2021-07-01 00:00:00')"
      ]
     },
     "execution_count": 13,
     "metadata": {},
     "output_type": "execute_result"
    }
   ],
   "source": [
    "df['Month'].max()"
   ]
  },
  {
   "cell_type": "code",
   "execution_count": 14,
   "id": "aca112b6",
   "metadata": {},
   "outputs": [],
   "source": [
    "df['month_year'] = df['Month'].apply(lambda x: x.strftime('%Y-%m'))\n"
   ]
  },
  {
   "cell_type": "code",
   "execution_count": 15,
   "id": "1f226aba",
   "metadata": {},
   "outputs": [
    {
     "data": {
      "text/html": [
       "<div>\n",
       "<style scoped>\n",
       "    .dataframe tbody tr th:only-of-type {\n",
       "        vertical-align: middle;\n",
       "    }\n",
       "\n",
       "    .dataframe tbody tr th {\n",
       "        vertical-align: top;\n",
       "    }\n",
       "\n",
       "    .dataframe thead th {\n",
       "        text-align: right;\n",
       "    }\n",
       "</style>\n",
       "<table border=\"1\" class=\"dataframe\">\n",
       "  <thead>\n",
       "    <tr style=\"text-align: right;\">\n",
       "      <th></th>\n",
       "      <th>month_year</th>\n",
       "      <th>Fees Total</th>\n",
       "    </tr>\n",
       "  </thead>\n",
       "  <tbody>\n",
       "    <tr>\n",
       "      <th>0</th>\n",
       "      <td>2020-04</td>\n",
       "      <td>3618720.00</td>\n",
       "    </tr>\n",
       "    <tr>\n",
       "      <th>1</th>\n",
       "      <td>2020-05</td>\n",
       "      <td>2080410.00</td>\n",
       "    </tr>\n",
       "    <tr>\n",
       "      <th>2</th>\n",
       "      <td>2020-06</td>\n",
       "      <td>1170850.00</td>\n",
       "    </tr>\n",
       "    <tr>\n",
       "      <th>3</th>\n",
       "      <td>2020-07</td>\n",
       "      <td>7004012.89</td>\n",
       "    </tr>\n",
       "    <tr>\n",
       "      <th>4</th>\n",
       "      <td>2020-08</td>\n",
       "      <td>4585163.11</td>\n",
       "    </tr>\n",
       "    <tr>\n",
       "      <th>5</th>\n",
       "      <td>2020-09</td>\n",
       "      <td>3118683.92</td>\n",
       "    </tr>\n",
       "    <tr>\n",
       "      <th>6</th>\n",
       "      <td>2020-10</td>\n",
       "      <td>3991449.00</td>\n",
       "    </tr>\n",
       "    <tr>\n",
       "      <th>7</th>\n",
       "      <td>2020-11</td>\n",
       "      <td>3963611.00</td>\n",
       "    </tr>\n",
       "    <tr>\n",
       "      <th>8</th>\n",
       "      <td>2020-12</td>\n",
       "      <td>5820778.73</td>\n",
       "    </tr>\n",
       "    <tr>\n",
       "      <th>9</th>\n",
       "      <td>2021-01</td>\n",
       "      <td>4979998.00</td>\n",
       "    </tr>\n",
       "    <tr>\n",
       "      <th>10</th>\n",
       "      <td>2021-02</td>\n",
       "      <td>4470147.00</td>\n",
       "    </tr>\n",
       "    <tr>\n",
       "      <th>11</th>\n",
       "      <td>2021-03</td>\n",
       "      <td>6692073.29</td>\n",
       "    </tr>\n",
       "    <tr>\n",
       "      <th>12</th>\n",
       "      <td>2021-04</td>\n",
       "      <td>7061907.52</td>\n",
       "    </tr>\n",
       "    <tr>\n",
       "      <th>13</th>\n",
       "      <td>2021-05</td>\n",
       "      <td>9021952.00</td>\n",
       "    </tr>\n",
       "    <tr>\n",
       "      <th>14</th>\n",
       "      <td>2021-06</td>\n",
       "      <td>9045863.00</td>\n",
       "    </tr>\n",
       "    <tr>\n",
       "      <th>15</th>\n",
       "      <td>2021-07</td>\n",
       "      <td>4440819.00</td>\n",
       "    </tr>\n",
       "  </tbody>\n",
       "</table>\n",
       "</div>"
      ],
      "text/plain": [
       "   month_year  Fees Total\n",
       "0     2020-04  3618720.00\n",
       "1     2020-05  2080410.00\n",
       "2     2020-06  1170850.00\n",
       "3     2020-07  7004012.89\n",
       "4     2020-08  4585163.11\n",
       "5     2020-09  3118683.92\n",
       "6     2020-10  3991449.00\n",
       "7     2020-11  3963611.00\n",
       "8     2020-12  5820778.73\n",
       "9     2021-01  4979998.00\n",
       "10    2021-02  4470147.00\n",
       "11    2021-03  6692073.29\n",
       "12    2021-04  7061907.52\n",
       "13    2021-05  9021952.00\n",
       "14    2021-06  9045863.00\n",
       "15    2021-07  4440819.00"
      ]
     },
     "execution_count": 15,
     "metadata": {},
     "output_type": "execute_result"
    }
   ],
   "source": [
    "# Grouping month year\n",
    "df_trend = df.groupby('month_year').sum()['Fees Total'].reset_index()\n",
    "df_trend"
   ]
  },
  {
   "cell_type": "code",
   "execution_count": 16,
   "id": "5964d8a7",
   "metadata": {},
   "outputs": [
    {
     "data": {
      "image/png": "[encoded data removed]",
      "text/plain": [
       "<Figure size 1080x432 with 1 Axes>"
      ]
     },
     "metadata": {
      "needs_background": "light"
     },
     "output_type": "display_data"
    }
   ],
   "source": [
    "# Setting the figure size\n",
    "plt.figure(figsize=(15,6))\n",
    "plt.plot(df_trend['month_year'], df_trend['Fees Total'], color='#b80045')\n",
    "plt.xlabel('Month_Year', fontsize=10)\n",
    "plt.ylabel('Fees Total', fontsize=10)\n",
    "plt.xticks(rotation='vertical', size=8)\n",
    "plt.show()"
   ]
  },
  {
   "cell_type": "markdown",
   "id": "8d89dfc7",
   "metadata": {},
   "source": [
    "- <H4> WHAT ARE THE SALES OF EACH COURSE?"
   ]
  },
  {
   "cell_type": "code",
   "execution_count": 17,
   "id": "482a78b4",
   "metadata": {},
   "outputs": [
    {
     "data": {
      "text/html": [
       "<div>\n",
       "<style scoped>\n",
       "    .dataframe tbody tr th:only-of-type {\n",
       "        vertical-align: middle;\n",
       "    }\n",
       "\n",
       "    .dataframe tbody tr th {\n",
       "        vertical-align: top;\n",
       "    }\n",
       "\n",
       "    .dataframe thead th {\n",
       "        text-align: right;\n",
       "    }\n",
       "</style>\n",
       "<table border=\"1\" class=\"dataframe\">\n",
       "  <thead>\n",
       "    <tr style=\"text-align: right;\">\n",
       "      <th></th>\n",
       "      <th>Fees Total</th>\n",
       "    </tr>\n",
       "    <tr>\n",
       "      <th>Course Name</th>\n",
       "      <th></th>\n",
       "    </tr>\n",
       "  </thead>\n",
       "  <tbody>\n",
       "    <tr>\n",
       "      <th>Analytics</th>\n",
       "      <td>53</td>\n",
       "    </tr>\n",
       "    <tr>\n",
       "      <th>CDCW</th>\n",
       "      <td>2590</td>\n",
       "    </tr>\n",
       "    <tr>\n",
       "      <th>GST</th>\n",
       "      <td>834</td>\n",
       "    </tr>\n",
       "    <tr>\n",
       "      <th>PMP</th>\n",
       "      <td>268</td>\n",
       "    </tr>\n",
       "    <tr>\n",
       "      <th>SSBB</th>\n",
       "      <td>1026</td>\n",
       "    </tr>\n",
       "    <tr>\n",
       "      <th>SSGB</th>\n",
       "      <td>1589</td>\n",
       "    </tr>\n",
       "  </tbody>\n",
       "</table>\n",
       "</div>"
      ],
      "text/plain": [
       "             Fees Total\n",
       "Course Name            \n",
       "Analytics            53\n",
       "CDCW               2590\n",
       "GST                 834\n",
       "PMP                 268\n",
       "SSBB               1026\n",
       "SSGB               1589"
      ]
     },
     "execution_count": 17,
     "metadata": {},
     "output_type": "execute_result"
    }
   ],
   "source": [
    "#Sales of each course\n",
    "course_count = pd.DataFrame(df.groupby('Course Name').count()['Fees Total'])\n",
    "course_count"
   ]
  },
  {
   "cell_type": "code",
   "execution_count": 18,
   "id": "88c1e084",
   "metadata": {},
   "outputs": [
    {
     "data": {
      "image/png": "[encoded data removed]",
      "text/plain": [
       "<Figure size 1080x576 with 1 Axes>"
      ]
     },
     "metadata": {
      "needs_background": "light"
     },
     "output_type": "display_data"
    }
   ],
   "source": [
    "plt.figure(figsize=(15,8))\n",
    "sns.set_style(\"whitegrid\")\n",
    "sns.countplot(x=df['Course Name'])\n",
    "plt.show()"
   ]
  },
  {
   "cell_type": "markdown",
   "id": "87b183e7",
   "metadata": {},
   "source": [
    "- <H4> WHAT ARE THE TOP 3 COURSES BY SALES?"
   ]
  },
  {
   "cell_type": "code",
   "execution_count": 19,
   "id": "5c1d10d4",
   "metadata": {},
   "outputs": [],
   "source": [
    "course_sales = pd.DataFrame(df.groupby('Course Name').count()['Fees Total'].rename('Count'))"
   ]
  },
  {
   "cell_type": "code",
   "execution_count": 20,
   "id": "d1a8f4b2",
   "metadata": {},
   "outputs": [],
   "source": [
    "course_sales = course_sales.sort_values('Count', ascending=False)"
   ]
  },
  {
   "cell_type": "code",
   "execution_count": 21,
   "id": "8da326a4",
   "metadata": {},
   "outputs": [
    {
     "data": {
      "text/html": [
       "<div>\n",
       "<style scoped>\n",
       "    .dataframe tbody tr th:only-of-type {\n",
       "        vertical-align: middle;\n",
       "    }\n",
       "\n",
       "    .dataframe tbody tr th {\n",
       "        vertical-align: top;\n",
       "    }\n",
       "\n",
       "    .dataframe thead th {\n",
       "        text-align: right;\n",
       "    }\n",
       "</style>\n",
       "<table border=\"1\" class=\"dataframe\">\n",
       "  <thead>\n",
       "    <tr style=\"text-align: right;\">\n",
       "      <th></th>\n",
       "      <th>Count</th>\n",
       "    </tr>\n",
       "    <tr>\n",
       "      <th>Course Name</th>\n",
       "      <th></th>\n",
       "    </tr>\n",
       "  </thead>\n",
       "  <tbody>\n",
       "    <tr>\n",
       "      <th>CDCW</th>\n",
       "      <td>2590</td>\n",
       "    </tr>\n",
       "    <tr>\n",
       "      <th>SSGB</th>\n",
       "      <td>1589</td>\n",
       "    </tr>\n",
       "    <tr>\n",
       "      <th>SSBB</th>\n",
       "      <td>1026</td>\n",
       "    </tr>\n",
       "  </tbody>\n",
       "</table>\n",
       "</div>"
      ],
      "text/plain": [
       "             Count\n",
       "Course Name       \n",
       "CDCW          2590\n",
       "SSGB          1589\n",
       "SSBB          1026"
      ]
     },
     "execution_count": 21,
     "metadata": {},
     "output_type": "execute_result"
    }
   ],
   "source": [
    "#Top 3 courses by sales\n",
    "course_sales[:3]"
   ]
  },
  {
   "cell_type": "markdown",
   "id": "cfa8c867",
   "metadata": {},
   "source": [
    "- <H4> WHAT IS THE REVENUE GENERATED FROM EACH COURSE?"
   ]
  },
  {
   "cell_type": "code",
   "execution_count": 22,
   "id": "f8fa5ccc",
   "metadata": {},
   "outputs": [
    {
     "data": {
      "text/html": [
       "<div>\n",
       "<style scoped>\n",
       "    .dataframe tbody tr th:only-of-type {\n",
       "        vertical-align: middle;\n",
       "    }\n",
       "\n",
       "    .dataframe tbody tr th {\n",
       "        vertical-align: top;\n",
       "    }\n",
       "\n",
       "    .dataframe thead th {\n",
       "        text-align: right;\n",
       "    }\n",
       "</style>\n",
       "<table border=\"1\" class=\"dataframe\">\n",
       "  <thead>\n",
       "    <tr style=\"text-align: right;\">\n",
       "      <th></th>\n",
       "      <th>Revenue Generated</th>\n",
       "    </tr>\n",
       "    <tr>\n",
       "      <th>Course Name</th>\n",
       "      <th></th>\n",
       "    </tr>\n",
       "  </thead>\n",
       "  <tbody>\n",
       "    <tr>\n",
       "      <th>Analytics</th>\n",
       "      <td>510547.65</td>\n",
       "    </tr>\n",
       "    <tr>\n",
       "      <th>CDCW</th>\n",
       "      <td>30087032.40</td>\n",
       "    </tr>\n",
       "    <tr>\n",
       "      <th>GST</th>\n",
       "      <td>4854866.89</td>\n",
       "    </tr>\n",
       "    <tr>\n",
       "      <th>PMP</th>\n",
       "      <td>3104577.00</td>\n",
       "    </tr>\n",
       "    <tr>\n",
       "      <th>SSBB</th>\n",
       "      <td>24054030.52</td>\n",
       "    </tr>\n",
       "    <tr>\n",
       "      <th>SSGB</th>\n",
       "      <td>18455384.00</td>\n",
       "    </tr>\n",
       "  </tbody>\n",
       "</table>\n",
       "</div>"
      ],
      "text/plain": [
       "             Revenue Generated\n",
       "Course Name                   \n",
       "Analytics            510547.65\n",
       "CDCW               30087032.40\n",
       "GST                 4854866.89\n",
       "PMP                 3104577.00\n",
       "SSBB               24054030.52\n",
       "SSGB               18455384.00"
      ]
     },
     "execution_count": 22,
     "metadata": {},
     "output_type": "execute_result"
    }
   ],
   "source": [
    "course_rev = pd.DataFrame(df.groupby('Course Name').sum()['Fees Total'].rename('Revenue Generated'))\n",
    "course_rev"
   ]
  },
  {
   "cell_type": "markdown",
   "id": "7be78c34",
   "metadata": {},
   "source": [
    "- <H5> Bar Graph"
   ]
  },
  {
   "cell_type": "code",
   "execution_count": 23,
   "id": "2a80d477",
   "metadata": {},
   "outputs": [
    {
     "data": {
      "text/plain": [
       "<AxesSubplot:xlabel='Course Name', ylabel='Revenue collected'>"
      ]
     },
     "execution_count": 23,
     "metadata": {},
     "output_type": "execute_result"
    },
    {
     "data": {
      "image/png": "[encoded data removed]",
      "text/plain": [
       "<Figure size 1080x576 with 1 Axes>"
      ]
     },
     "metadata": {},
     "output_type": "display_data"
    }
   ],
   "source": [
    "plt.figure(figsize=(15,8))\n",
    "sns.set_theme(style=\"darkgrid\")\n",
    "df.groupby('Course Name').sum()['Fees Total'].rename('Revenue Generated').plot(kind=\"bar\", ylabel=\"Revenue collected\")\n"
   ]
  },
  {
   "cell_type": "markdown",
   "id": "60245f07",
   "metadata": {},
   "source": [
    "- <H5> Pie Chart"
   ]
  },
  {
   "cell_type": "code",
   "execution_count": 24,
   "id": "d7bfca47",
   "metadata": {},
   "outputs": [
    {
     "data": {
      "text/plain": [
       "<AxesSubplot:ylabel='Revenue Generated'>"
      ]
     },
     "execution_count": 24,
     "metadata": {},
     "output_type": "execute_result"
    },
    {
     "data": {
      "image/png": "[encoded data removed]",
      "text/plain": [
       "<Figure size 1080x576 with 1 Axes>"
      ]
     },
     "metadata": {},
     "output_type": "display_data"
    }
   ],
   "source": [
    "plt.figure(figsize=(15,8))\n",
    "sns.set_style(\"whitegrid\")\n",
    "df.groupby('Course Name').sum()['Fees Total'].rename('Revenue Generated').plot(kind=\"pie\",autopct='%1.1f%%')"
   ]
  },
  {
   "cell_type": "markdown",
   "id": "1c03bb51",
   "metadata": {},
   "source": [
    "- <H4> WHAT ARE THE NUMBER OF COURSE ORDERS HANDLED BY EACH COUNSELLOR?"
   ]
  },
  {
   "cell_type": "code",
   "execution_count": 25,
   "id": "9f307212",
   "metadata": {},
   "outputs": [
    {
     "data": {
      "text/plain": [
       "Counsellor Name\n",
       "Abhishek       76\n",
       "Abhishek C    127\n",
       "Akansha       139\n",
       "Ankit         247\n",
       "Ayushi          3\n",
       "Bhoomika        9\n",
       "CD            222\n",
       "Chandrika      15\n",
       "Deepak        366\n",
       "Deepender      17\n",
       "Deepti         17\n",
       "Garima         54\n",
       "Hemlata         9\n",
       "Honey           7\n",
       "IJ            329\n",
       "Iqra           13\n",
       "KIM             2\n",
       "Khalid         70\n",
       "Kim           201\n",
       "Komal          13\n",
       "Laiba         206\n",
       "MANISH          2\n",
       "MM            338\n",
       "Manish        659\n",
       "Manisha       124\n",
       "Mehjabee       18\n",
       "Minali          9\n",
       "NC            237\n",
       "NK            169\n",
       "Namarta        17\n",
       "Namrata        27\n",
       "Naveen        205\n",
       "Neelam          3\n",
       "Nimra         110\n",
       "Pankaj         13\n",
       "Pooja         490\n",
       "Priyanka      140\n",
       "Ruby          127\n",
       "SK            164\n",
       "SS            324\n",
       "Sahiba          5\n",
       "Sakshi         26\n",
       "Samreen       148\n",
       "Simran         78\n",
       "Sonali          7\n",
       "Sonam          74\n",
       "Sunny          17\n",
       "Suyal          48\n",
       "Tarun         238\n",
       "Ujjal           2\n",
       "VU              2\n",
       "Vidushi         1\n",
       "Vikas           1\n",
       "Vineeta       230\n",
       "Vipin         121\n",
       "]               1\n",
       "akansha        33\n",
       "komal           2\n",
       "sahiba          2\n",
       "vipin           6\n",
       "Name: Course Name, dtype: int64"
      ]
     },
     "execution_count": 25,
     "metadata": {},
     "output_type": "execute_result"
    }
   ],
   "source": [
    "df.groupby('Counsellor Name').count()['Course Name']"
   ]
  },
  {
   "cell_type": "code",
   "execution_count": 26,
   "id": "808e9c52",
   "metadata": {},
   "outputs": [
    {
     "data": {
      "text/plain": [
       "<AxesSubplot:xlabel='Counsellor Name', ylabel='Course count'>"
      ]
     },
     "execution_count": 26,
     "metadata": {},
     "output_type": "execute_result"
    },
    {
     "data": {
      "image/png": "[encoded data removed]",
      "text/plain": [
       "<Figure size 1080x576 with 1 Axes>"
      ]
     },
     "metadata": {},
     "output_type": "display_data"
    }
   ],
   "source": [
    "plt.figure(figsize=(15,8))\n",
    "df.groupby('Counsellor Name').count()['Course Name'].plot(kind=\"bar\", ylabel=\"Course count\", color=\"#2bcc73\")"
   ]
  },
  {
   "cell_type": "markdown",
   "id": "034379ff",
   "metadata": {},
   "source": [
    "- <H4> HOW DOES THE MEAN REVENUE COLLECTED PER MONTH VARY WITH TIME?"
   ]
  },
  {
   "cell_type": "markdown",
   "id": "8b942866",
   "metadata": {},
   "source": [
    "- <H5> Line Plot"
   ]
  },
  {
   "cell_type": "code",
   "execution_count": 27,
   "id": "603ce4dd",
   "metadata": {
    "scrolled": false
   },
   "outputs": [
    {
     "name": "stdout",
     "output_type": "stream",
     "text": [
      "Month\n",
      "2020-04-01    9092.26\n",
      "2020-05-01    9631.53\n",
      "2020-06-01   12589.78\n",
      "2020-07-01    6747.60\n",
      "2020-08-01   12325.71\n",
      "2020-09-01   12134.96\n",
      "2020-10-01   12357.43\n",
      "2020-11-01   12543.07\n",
      "2020-12-01   14736.15\n",
      "2021-01-01   15809.52\n",
      "2021-02-01   13304.01\n",
      "2021-03-01   14579.68\n",
      "2021-04-01   16013.40\n",
      "2021-05-01   15422.14\n",
      "2021-06-01   17395.89\n",
      "2021-07-01   15002.77\n",
      "Name: Fees Total, dtype: float64\n"
     ]
    },
    {
     "data": {
      "image/png": "[encoded data removed]",
      "text/plain": [
       "<Figure size 1080x432 with 1 Axes>"
      ]
     },
     "metadata": {},
     "output_type": "display_data"
    }
   ],
   "source": [
    "course_ran = df.groupby('Month', as_index=True).mean()['Fees Total']\n",
    "print(course_ran)\n",
    "date = df['Month'].map(dt.datetime.toordinal)\n",
    "plt.figure(figsize=(15,6))\n",
    "plt.plot(course_ran, color=\"red\")\n",
    "plt.xticks(rotation='vertical', size=15)\n",
    "plt.show()"
   ]
  },
  {
   "cell_type": "markdown",
   "id": "cf823133",
   "metadata": {},
   "source": [
    "- <H5> Scatter Plot"
   ]
  },
  {
   "cell_type": "code",
   "execution_count": 28,
   "id": "69ae7c14",
   "metadata": {},
   "outputs": [
    {
     "data": {
      "text/plain": [
       "<matplotlib.collections.PathCollection at 0x28a14e3ba00>"
      ]
     },
     "execution_count": 28,
     "metadata": {},
     "output_type": "execute_result"
    },
    {
     "data": {
      "image/png": "[encoded data removed]",
      "text/plain": [
       "<Figure size 1080x432 with 1 Axes>"
      ]
     },
     "metadata": {},
     "output_type": "display_data"
    }
   ],
   "source": [
    "plt.figure(figsize=(15,6))\n",
    "a = pd.DataFrame(df.groupby('Month', as_index=True).mean()['Fees Total']).values\n",
    "b = df['Month'].unique()\n",
    "c = np.sort(b)\n",
    "plt.scatter(c,a)"
   ]
  },
  {
   "cell_type": "markdown",
   "id": "3c747105",
   "metadata": {},
   "source": [
    "- <H5> Linear Regression Model"
   ]
  },
  {
   "cell_type": "code",
   "execution_count": 29,
   "id": "67bef5f0",
   "metadata": {},
   "outputs": [
    {
     "data": {
      "text/plain": [
       "(16, 1)"
      ]
     },
     "execution_count": 29,
     "metadata": {},
     "output_type": "execute_result"
    }
   ],
   "source": [
    "p = df['Month'].map(dt.datetime.toordinal).unique()\n",
    "q= np.sort(p)\n",
    "q = q.reshape(-1,1)\n",
    "q.shape"
   ]
  },
  {
   "cell_type": "code",
   "execution_count": 30,
   "id": "20278279",
   "metadata": {},
   "outputs": [
    {
     "data": {
      "text/plain": [
       "LinearRegression()"
      ]
     },
     "execution_count": 30,
     "metadata": {},
     "output_type": "execute_result"
    }
   ],
   "source": [
    "model = LinearRegression()\n",
    "model.fit(q,a)"
   ]
  },
  {
   "cell_type": "code",
   "execution_count": 31,
   "id": "fe141561",
   "metadata": {},
   "outputs": [
    {
     "data": {
      "text/plain": [
       "array([[ 9365.85492169],\n",
       "       [ 9856.95378934],\n",
       "       [10364.42261925],\n",
       "       [10855.5214869 ],\n",
       "       [11362.99031681],\n",
       "       [11870.45914672],\n",
       "       [12361.55801437],\n",
       "       [12869.02684428],\n",
       "       [13360.12571193],\n",
       "       [13867.59454184],\n",
       "       [14375.06337175],\n",
       "       [14833.42231489],\n",
       "       [15340.8911448 ],\n",
       "       [15831.99001245],\n",
       "       [16339.45884236],\n",
       "       [16830.55771001]])"
      ]
     },
     "execution_count": 31,
     "metadata": {},
     "output_type": "execute_result"
    }
   ],
   "source": [
    "# Getting predicted monthly mean revenues in the form of an array\n",
    "a_pred = model.predict(q)\n",
    "a_pred"
   ]
  },
  {
   "cell_type": "code",
   "execution_count": 32,
   "id": "40d88ca9",
   "metadata": {},
   "outputs": [
    {
     "data": {
      "text/plain": [
       "<matplotlib.collections.PathCollection at 0x28a14ea3a90>"
      ]
     },
     "execution_count": 32,
     "metadata": {},
     "output_type": "execute_result"
    },
    {
     "data": {
      "image/png": "[encoded data removed]",
      "text/plain": [
       "<Figure size 1080x432 with 1 Axes>"
      ]
     },
     "metadata": {},
     "output_type": "display_data"
    }
   ],
   "source": [
    "plt.figure(figsize=(15,6))\n",
    "plt.scatter(q,a)\n",
    "plt.scatter(q,a_pred)"
   ]
  },
  {
   "cell_type": "code",
   "execution_count": 33,
   "id": "fa8d82d4",
   "metadata": {},
   "outputs": [
    {
     "data": {
      "text/plain": [
       "0.7065517159854118"
      ]
     },
     "execution_count": 33,
     "metadata": {},
     "output_type": "execute_result"
    }
   ],
   "source": [
    "model.score(q,a)"
   ]
  },
  {
   "cell_type": "markdown",
   "id": "e8b43ef0",
   "metadata": {},
   "source": [
    "###### The linear regression model has an accuracy of approximately 71%"
   ]
  },
  {
   "cell_type": "code",
   "execution_count": 34,
   "id": "ebf95c59",
   "metadata": {},
   "outputs": [
    {
     "data": {
      "text/plain": [
       "array([[737516],\n",
       "       [737546],\n",
       "       [737577],\n",
       "       [737607],\n",
       "       [737638],\n",
       "       [737669],\n",
       "       [737699],\n",
       "       [737730],\n",
       "       [737760],\n",
       "       [737791],\n",
       "       [737822],\n",
       "       [737850],\n",
       "       [737881],\n",
       "       [737911],\n",
       "       [737942],\n",
       "       [737972]], dtype=int64)"
      ]
     },
     "execution_count": 34,
     "metadata": {},
     "output_type": "execute_result"
    }
   ],
   "source": [
    "# Viewing the \".map(dt.datetime.toordinal)\" equivalent of \"Month\" column of dataset\n",
    "q"
   ]
  },
  {
   "cell_type": "code",
   "execution_count": 35,
   "id": "3f21c61f",
   "metadata": {},
   "outputs": [
    {
     "data": {
      "text/plain": [
       "array([[16879.66759677],\n",
       "       [17288.91665315]])"
      ]
     },
     "execution_count": 35,
     "metadata": {},
     "output_type": "execute_result"
    }
   ],
   "source": [
    "# Predicting mean revenues for upcoming months\n",
    "x_pred = np.array([737975,738000]).reshape(-1,1)\n",
    "y_pred = model.predict(x_pred)\n",
    "y_pred"
   ]
  },
  {
   "cell_type": "code",
   "execution_count": 44,
   "id": "96ec2f52",
   "metadata": {},
   "outputs": [
    {
     "ename": "KeyError",
     "evalue": "'Fees Pending'",
     "output_type": "error",
     "traceback": [
      "\u001b[1;31m---------------------------------------------------------------------------\u001b[0m",
      "\u001b[1;31mKeyError\u001b[0m                                  Traceback (most recent call last)",
      "\u001b[1;32m~\\anaconda3\\lib\\site-packages\\pandas\\core\\indexes\\base.py\u001b[0m in \u001b[0;36mget_loc\u001b[1;34m(self, key, method, tolerance)\u001b[0m\n\u001b[0;32m   3079\u001b[0m             \u001b[1;32mtry\u001b[0m\u001b[1;33m:\u001b[0m\u001b[1;33m\u001b[0m\u001b[1;33m\u001b[0m\u001b[0m\n\u001b[1;32m-> 3080\u001b[1;33m                 \u001b[1;32mreturn\u001b[0m \u001b[0mself\u001b[0m\u001b[1;33m.\u001b[0m\u001b[0m_engine\u001b[0m\u001b[1;33m.\u001b[0m\u001b[0mget_loc\u001b[0m\u001b[1;33m(\u001b[0m\u001b[0mcasted_key\u001b[0m\u001b[1;33m)\u001b[0m\u001b[1;33m\u001b[0m\u001b[1;33m\u001b[0m\u001b[0m\n\u001b[0m\u001b[0;32m   3081\u001b[0m             \u001b[1;32mexcept\u001b[0m \u001b[0mKeyError\u001b[0m \u001b[1;32mas\u001b[0m \u001b[0merr\u001b[0m\u001b[1;33m:\u001b[0m\u001b[1;33m\u001b[0m\u001b[1;33m\u001b[0m\u001b[0m\n",
      "\u001b[1;32mpandas\\_libs\\index.pyx\u001b[0m in \u001b[0;36mpandas._libs.index.IndexEngine.get_loc\u001b[1;34m()\u001b[0m\n",
      "\u001b[1;32mpandas\\_libs\\index.pyx\u001b[0m in \u001b[0;36mpandas._libs.index.IndexEngine.get_loc\u001b[1;34m()\u001b[0m\n",
      "\u001b[1;32mpandas\\_libs\\hashtable_class_helper.pxi\u001b[0m in \u001b[0;36mpandas._libs.hashtable.PyObjectHashTable.get_item\u001b[1;34m()\u001b[0m\n",
      "\u001b[1;32mpandas\\_libs\\hashtable_class_helper.pxi\u001b[0m in \u001b[0;36mpandas._libs.hashtable.PyObjectHashTable.get_item\u001b[1;34m()\u001b[0m\n",
      "\u001b[1;31mKeyError\u001b[0m: 'Fees Pending'",
      "\nThe above exception was the direct cause of the following exception:\n",
      "\u001b[1;31mKeyError\u001b[0m                                  Traceback (most recent call last)",
      "\u001b[1;32m<ipython-input-44-90ef38aa5895>\u001b[0m in \u001b[0;36m<module>\u001b[1;34m\u001b[0m\n\u001b[1;32m----> 1\u001b[1;33m \u001b[0mdf\u001b[0m\u001b[1;33m.\u001b[0m\u001b[0mgroupby\u001b[0m\u001b[1;33m(\u001b[0m\u001b[1;34m'Course Name'\u001b[0m\u001b[1;33m)\u001b[0m\u001b[1;33m.\u001b[0m\u001b[0msum\u001b[0m\u001b[1;33m(\u001b[0m\u001b[1;33m)\u001b[0m\u001b[1;33m[\u001b[0m\u001b[1;34m'Fees Pending'\u001b[0m\u001b[1;33m]\u001b[0m\u001b[1;33m\u001b[0m\u001b[1;33m\u001b[0m\u001b[0m\n\u001b[0m",
      "\u001b[1;32m~\\anaconda3\\lib\\site-packages\\pandas\\core\\frame.py\u001b[0m in \u001b[0;36m__getitem__\u001b[1;34m(self, key)\u001b[0m\n\u001b[0;32m   3022\u001b[0m             \u001b[1;32mif\u001b[0m \u001b[0mself\u001b[0m\u001b[1;33m.\u001b[0m\u001b[0mcolumns\u001b[0m\u001b[1;33m.\u001b[0m\u001b[0mnlevels\u001b[0m \u001b[1;33m>\u001b[0m \u001b[1;36m1\u001b[0m\u001b[1;33m:\u001b[0m\u001b[1;33m\u001b[0m\u001b[1;33m\u001b[0m\u001b[0m\n\u001b[0;32m   3023\u001b[0m                 \u001b[1;32mreturn\u001b[0m \u001b[0mself\u001b[0m\u001b[1;33m.\u001b[0m\u001b[0m_getitem_multilevel\u001b[0m\u001b[1;33m(\u001b[0m\u001b[0mkey\u001b[0m\u001b[1;33m)\u001b[0m\u001b[1;33m\u001b[0m\u001b[1;33m\u001b[0m\u001b[0m\n\u001b[1;32m-> 3024\u001b[1;33m             \u001b[0mindexer\u001b[0m \u001b[1;33m=\u001b[0m \u001b[0mself\u001b[0m\u001b[1;33m.\u001b[0m\u001b[0mcolumns\u001b[0m\u001b[1;33m.\u001b[0m\u001b[0mget_loc\u001b[0m\u001b[1;33m(\u001b[0m\u001b[0mkey\u001b[0m\u001b[1;33m)\u001b[0m\u001b[1;33m\u001b[0m\u001b[1;33m\u001b[0m\u001b[0m\n\u001b[0m\u001b[0;32m   3025\u001b[0m             \u001b[1;32mif\u001b[0m \u001b[0mis_integer\u001b[0m\u001b[1;33m(\u001b[0m\u001b[0mindexer\u001b[0m\u001b[1;33m)\u001b[0m\u001b[1;33m:\u001b[0m\u001b[1;33m\u001b[0m\u001b[1;33m\u001b[0m\u001b[0m\n\u001b[0;32m   3026\u001b[0m                 \u001b[0mindexer\u001b[0m \u001b[1;33m=\u001b[0m \u001b[1;33m[\u001b[0m\u001b[0mindexer\u001b[0m\u001b[1;33m]\u001b[0m\u001b[1;33m\u001b[0m\u001b[1;33m\u001b[0m\u001b[0m\n",
      "\u001b[1;32m~\\anaconda3\\lib\\site-packages\\pandas\\core\\indexes\\base.py\u001b[0m in \u001b[0;36mget_loc\u001b[1;34m(self, key, method, tolerance)\u001b[0m\n\u001b[0;32m   3080\u001b[0m                 \u001b[1;32mreturn\u001b[0m \u001b[0mself\u001b[0m\u001b[1;33m.\u001b[0m\u001b[0m_engine\u001b[0m\u001b[1;33m.\u001b[0m\u001b[0mget_loc\u001b[0m\u001b[1;33m(\u001b[0m\u001b[0mcasted_key\u001b[0m\u001b[1;33m)\u001b[0m\u001b[1;33m\u001b[0m\u001b[1;33m\u001b[0m\u001b[0m\n\u001b[0;32m   3081\u001b[0m             \u001b[1;32mexcept\u001b[0m \u001b[0mKeyError\u001b[0m \u001b[1;32mas\u001b[0m \u001b[0merr\u001b[0m\u001b[1;33m:\u001b[0m\u001b[1;33m\u001b[0m\u001b[1;33m\u001b[0m\u001b[0m\n\u001b[1;32m-> 3082\u001b[1;33m                 \u001b[1;32mraise\u001b[0m \u001b[0mKeyError\u001b[0m\u001b[1;33m(\u001b[0m\u001b[0mkey\u001b[0m\u001b[1;33m)\u001b[0m \u001b[1;32mfrom\u001b[0m \u001b[0merr\u001b[0m\u001b[1;33m\u001b[0m\u001b[1;33m\u001b[0m\u001b[0m\n\u001b[0m\u001b[0;32m   3083\u001b[0m \u001b[1;33m\u001b[0m\u001b[0m\n\u001b[0;32m   3084\u001b[0m         \u001b[1;32mif\u001b[0m \u001b[0mtolerance\u001b[0m \u001b[1;32mis\u001b[0m \u001b[1;32mnot\u001b[0m \u001b[1;32mNone\u001b[0m\u001b[1;33m:\u001b[0m\u001b[1;33m\u001b[0m\u001b[1;33m\u001b[0m\u001b[0m\n",
      "\u001b[1;31mKeyError\u001b[0m: 'Fees Pending'"
     ]
    }
   ],
   "source": [
    "df.groupby('Course Name').sum()['Fees Pending']"
   ]
  },
  {
   "cell_type": "code",
   "execution_count": null,
   "id": "020a6a62",
   "metadata": {},
   "outputs": [],
   "source": []
  }
 ],
 "metadata": {
  "kernelspec": {
   "display_name": "Python 3",
   "language": "python",
   "name": "python3"
  },
  "language_info": {
   "codemirror_mode": {
    "name": "ipython",
    "version": 3
   },
   "file_extension": ".py",
   "mimetype": "text/x-python",
   "name": "python",
   "nbconvert_exporter": "python",
   "pygments_lexer": "ipython3",
   "version": "3.8.8"
  }
 },
 "nbformat": 4,
 "nbformat_minor": 5
}
